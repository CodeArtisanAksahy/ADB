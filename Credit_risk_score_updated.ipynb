{
  "nbformat": 4,
  "nbformat_minor": 0,
  "metadata": {
    "colab": {
      "provenance": []
    },
    "kernelspec": {
      "name": "python3",
      "display_name": "Python 3"
    },
    "language_info": {
      "name": "python"
    }
  },
  "cells": [
    {
      "cell_type": "code",
      "execution_count": 3,
      "metadata": {
        "colab": {
          "base_uri": "https://localhost:8080/"
        },
        "id": "Octt8Qgnz8VM",
        "outputId": "73ae8b26-cbec-438b-c429-e7131417f7b7"
      },
      "outputs": [
        {
          "output_type": "stream",
          "name": "stdout",
          "text": [
            "Drive already mounted at /content/drive; to attempt to forcibly remount, call drive.mount(\"/content/drive\", force_remount=True).\n"
          ]
        }
      ],
      "source": [
        "from google.colab import drive\n",
        "drive.mount('/content/drive')"
      ]
    },
    {
      "cell_type": "code",
      "source": [
        "import pandas as pd\n",
        "df=pd.read_csv(\"/content/drive/MyDrive/Colab Notebooks/cs-training.csv\",index_col=0)\n",
        "print(df.head())"
      ],
      "metadata": {
        "colab": {
          "base_uri": "https://localhost:8080/"
        },
        "id": "r7-dRnfn0_kq",
        "outputId": "f9999aeb-71b4-41e9-b8ed-73849fd20d2d"
      },
      "execution_count": 4,
      "outputs": [
        {
          "output_type": "stream",
          "name": "stdout",
          "text": [
            "   SeriousDlqin2yrs  RevolvingUtilizationOfUnsecuredLines  age  \\\n",
            "1                 1                              0.766127   45   \n",
            "2                 0                              0.957151   40   \n",
            "3                 0                              0.658180   38   \n",
            "4                 0                              0.233810   30   \n",
            "5                 0                              0.907239   49   \n",
            "\n",
            "   NumberOfTime30-59DaysPastDueNotWorse  DebtRatio  MonthlyIncome  \\\n",
            "1                                     2   0.802982         9120.0   \n",
            "2                                     0   0.121876         2600.0   \n",
            "3                                     1   0.085113         3042.0   \n",
            "4                                     0   0.036050         3300.0   \n",
            "5                                     1   0.024926        63588.0   \n",
            "\n",
            "   NumberOfOpenCreditLinesAndLoans  NumberOfTimes90DaysLate  \\\n",
            "1                               13                        0   \n",
            "2                                4                        0   \n",
            "3                                2                        1   \n",
            "4                                5                        0   \n",
            "5                                7                        0   \n",
            "\n",
            "   NumberRealEstateLoansOrLines  NumberOfTime60-89DaysPastDueNotWorse  \\\n",
            "1                             6                                     0   \n",
            "2                             0                                     0   \n",
            "3                             0                                     0   \n",
            "4                             0                                     0   \n",
            "5                             1                                     0   \n",
            "\n",
            "   NumberOfDependents  \n",
            "1                 2.0  \n",
            "2                 1.0  \n",
            "3                 0.0  \n",
            "4                 0.0  \n",
            "5                 0.0  \n"
          ]
        }
      ]
    },
    {
      "cell_type": "code",
      "source": [
        "import numpy as np\n",
        "import matplotlib.pyplot as plt\n",
        "import seaborn as sns\n",
        "from sklearn.model_selection import train_test_split\n",
        "from sklearn.preprocessing import StandardScaler\n",
        "from sklearn.ensemble import RandomForestClassifier\n",
        "from sklearn.metrics import classification_report,roc_auc_score, confusion_matrix"
      ],
      "metadata": {
        "id": "EU648Ix61jOS"
      },
      "execution_count": 5,
      "outputs": []
    },
    {
      "cell_type": "code",
      "source": [
        "print(df.info())\n",
        "print(df.describe())"
      ],
      "metadata": {
        "colab": {
          "base_uri": "https://localhost:8080/"
        },
        "id": "G8rb-CGC2kdE",
        "outputId": "ebe3648f-2a68-41e5-bb35-7187e2af4ccb"
      },
      "execution_count": 6,
      "outputs": [
        {
          "output_type": "stream",
          "name": "stdout",
          "text": [
            "<class 'pandas.core.frame.DataFrame'>\n",
            "Index: 150000 entries, 1 to 150000\n",
            "Data columns (total 11 columns):\n",
            " #   Column                                Non-Null Count   Dtype  \n",
            "---  ------                                --------------   -----  \n",
            " 0   SeriousDlqin2yrs                      150000 non-null  int64  \n",
            " 1   RevolvingUtilizationOfUnsecuredLines  150000 non-null  float64\n",
            " 2   age                                   150000 non-null  int64  \n",
            " 3   NumberOfTime30-59DaysPastDueNotWorse  150000 non-null  int64  \n",
            " 4   DebtRatio                             150000 non-null  float64\n",
            " 5   MonthlyIncome                         120269 non-null  float64\n",
            " 6   NumberOfOpenCreditLinesAndLoans       150000 non-null  int64  \n",
            " 7   NumberOfTimes90DaysLate               150000 non-null  int64  \n",
            " 8   NumberRealEstateLoansOrLines          150000 non-null  int64  \n",
            " 9   NumberOfTime60-89DaysPastDueNotWorse  150000 non-null  int64  \n",
            " 10  NumberOfDependents                    146076 non-null  float64\n",
            "dtypes: float64(4), int64(7)\n",
            "memory usage: 13.7 MB\n",
            "None\n",
            "       SeriousDlqin2yrs  RevolvingUtilizationOfUnsecuredLines            age  \\\n",
            "count     150000.000000                         150000.000000  150000.000000   \n",
            "mean           0.066840                              6.048438      52.295207   \n",
            "std            0.249746                            249.755371      14.771866   \n",
            "min            0.000000                              0.000000       0.000000   \n",
            "25%            0.000000                              0.029867      41.000000   \n",
            "50%            0.000000                              0.154181      52.000000   \n",
            "75%            0.000000                              0.559046      63.000000   \n",
            "max            1.000000                          50708.000000     109.000000   \n",
            "\n",
            "       NumberOfTime30-59DaysPastDueNotWorse      DebtRatio  MonthlyIncome  \\\n",
            "count                         150000.000000  150000.000000   1.202690e+05   \n",
            "mean                               0.421033     353.005076   6.670221e+03   \n",
            "std                                4.192781    2037.818523   1.438467e+04   \n",
            "min                                0.000000       0.000000   0.000000e+00   \n",
            "25%                                0.000000       0.175074   3.400000e+03   \n",
            "50%                                0.000000       0.366508   5.400000e+03   \n",
            "75%                                0.000000       0.868254   8.249000e+03   \n",
            "max                               98.000000  329664.000000   3.008750e+06   \n",
            "\n",
            "       NumberOfOpenCreditLinesAndLoans  NumberOfTimes90DaysLate  \\\n",
            "count                    150000.000000            150000.000000   \n",
            "mean                          8.452760                 0.265973   \n",
            "std                           5.145951                 4.169304   \n",
            "min                           0.000000                 0.000000   \n",
            "25%                           5.000000                 0.000000   \n",
            "50%                           8.000000                 0.000000   \n",
            "75%                          11.000000                 0.000000   \n",
            "max                          58.000000                98.000000   \n",
            "\n",
            "       NumberRealEstateLoansOrLines  NumberOfTime60-89DaysPastDueNotWorse  \\\n",
            "count                 150000.000000                         150000.000000   \n",
            "mean                       1.018240                              0.240387   \n",
            "std                        1.129771                              4.155179   \n",
            "min                        0.000000                              0.000000   \n",
            "25%                        0.000000                              0.000000   \n",
            "50%                        1.000000                              0.000000   \n",
            "75%                        2.000000                              0.000000   \n",
            "max                       54.000000                             98.000000   \n",
            "\n",
            "       NumberOfDependents  \n",
            "count       146076.000000  \n",
            "mean             0.757222  \n",
            "std              1.115086  \n",
            "min              0.000000  \n",
            "25%              0.000000  \n",
            "50%              0.000000  \n",
            "75%              1.000000  \n",
            "max             20.000000  \n"
          ]
        }
      ]
    },
    {
      "cell_type": "code",
      "source": [
        " print(df.isnull().sum())\n",
        " #Here we are checking for missing values"
      ],
      "metadata": {
        "colab": {
          "base_uri": "https://localhost:8080/"
        },
        "id": "Y5I-M_D42yqX",
        "outputId": "d387064b-8865-4402-fba9-dff246ece5d0"
      },
      "execution_count": 7,
      "outputs": [
        {
          "output_type": "stream",
          "name": "stdout",
          "text": [
            "SeriousDlqin2yrs                            0\n",
            "RevolvingUtilizationOfUnsecuredLines        0\n",
            "age                                         0\n",
            "NumberOfTime30-59DaysPastDueNotWorse        0\n",
            "DebtRatio                                   0\n",
            "MonthlyIncome                           29731\n",
            "NumberOfOpenCreditLinesAndLoans             0\n",
            "NumberOfTimes90DaysLate                     0\n",
            "NumberRealEstateLoansOrLines                0\n",
            "NumberOfTime60-89DaysPastDueNotWorse        0\n",
            "NumberOfDependents                       3924\n",
            "dtype: int64\n"
          ]
        }
      ]
    },
    {
      "cell_type": "code",
      "source": [
        "sns.countplot(x='SeriousDlqin2yrs',data=df)\n",
        "plt.title(\"Default Distribution\")\n",
        "plt.show()"
      ],
      "metadata": {
        "colab": {
          "base_uri": "https://localhost:8080/",
          "height": 472
        },
        "id": "iG9DE2qV3B18",
        "outputId": "20da2a6e-e37b-4b63-8a01-5c7c69fa5b28"
      },
      "execution_count": 8,
      "outputs": [
        {
          "output_type": "display_data",
          "data": {
            "text/plain": [
              "<Figure size 640x480 with 1 Axes>"
            ],
            "image/png": "[encoded data removed]"
          },
          "metadata": {}
        }
      ]
    },
    {
      "cell_type": "code",
      "source": [
        "#Handling missing values\n",
        "df['MonthlyIncome']=df['MonthlyIncome'].fillna(df['MonthlyIncome'].median())\n",
        "df['NumberOfDependents']=df['NumberOfDependents'].fillna(0)"
      ],
      "metadata": {
        "id": "EYkUFDKp3zqe"
      },
      "execution_count": 9,
      "outputs": []
    },
    {
      "cell_type": "code",
      "source": [
        "from sklearn.preprocessing import StandardScaler\n",
        "x=df.drop(\"SeriousDlqin2yrs\",axis=1)\n",
        "y=df[\"SeriousDlqin2yrs\"]"
      ],
      "metadata": {
        "id": "ctqSS0BN4rBW"
      },
      "execution_count": 10,
      "outputs": []
    },
    {
      "cell_type": "code",
      "source": [
        "scaler=StandardScaler()\n",
        "x_scaled=scaler.fit_transform(x)"
      ],
      "metadata": {
        "id": "ATeCIGhs5v7P"
      },
      "execution_count": 11,
      "outputs": []
    },
    {
      "cell_type": "code",
      "source": [
        "x_scaled=pd.DataFrame(x_scaled,columns=x.columns)"
      ],
      "metadata": {
        "id": "o13CWZbG55ev"
      },
      "execution_count": 12,
      "outputs": []
    },
    {
      "cell_type": "code",
      "source": [
        "from sklearn.model_selection import train_test_split\n",
        "x_train,x_test,y_train,y_test=train_test_split(x_scaled,y,test_size=0.2, random_state=42,stratify=y)\n",
        "print(x_train,x_test)"
      ],
      "metadata": {
        "colab": {
          "base_uri": "https://localhost:8080/"
        },
        "id": "fBH1wr7-5_Is",
        "outputId": "0f084932-b020-4c4c-ba37-abb68c3eba73"
      },
      "execution_count": 13,
      "outputs": [
        {
          "output_type": "stream",
          "name": "stdout",
          "text": [
            "        RevolvingUtilizationOfUnsecuredLines       age  \\\n",
            "57836                              -0.023757  0.656980   \n",
            "132895                             -0.024183  1.401642   \n",
            "27981                              -0.023359 -1.373914   \n",
            "37852                              -0.020214  0.521587   \n",
            "103813                             -0.023295  0.521587   \n",
            "...                                      ...       ...   \n",
            "18048                              -0.024201 -0.764646   \n",
            "3895                               -0.024218 -0.223074   \n",
            "109980                             -0.020214  1.875517   \n",
            "74354                              -0.020513  0.724677   \n",
            "80530                              -0.020214 -0.764646   \n",
            "\n",
            "        NumberOfTime30-59DaysPastDueNotWorse  DebtRatio  MonthlyIncome  \\\n",
            "57836                              -0.100419   0.730193      -0.079009   \n",
            "132895                             -0.100419  -0.172983      -0.203133   \n",
            "27981                              -0.100419  -0.173123      -0.209649   \n",
            "37852                              -0.100419  -0.115322      -0.079009   \n",
            "103813                             -0.100419  -0.172728      -0.265195   \n",
            "...                                      ...        ...            ...   \n",
            "18048                              -0.100419  -0.172996       0.099031   \n",
            "3895                               -0.100419  -0.173069       0.167920   \n",
            "109980                             -0.100419  -0.156052      -0.079009   \n",
            "74354                              -0.100419  -0.173036      -0.378846   \n",
            "80530                               0.138087   0.251738      -0.079009   \n",
            "\n",
            "        NumberOfOpenCreditLinesAndLoans  NumberOfTimes90DaysLate  \\\n",
            "57836                         -0.670969                -0.063793   \n",
            "132895                        -0.476640                -0.063793   \n",
            "27981                         -0.087984                -0.063793   \n",
            "37852                         -0.670969                -0.063793   \n",
            "103813                         0.300672                -0.063793   \n",
            "...                                 ...                      ...   \n",
            "18048                          0.106344                -0.063793   \n",
            "3895                           1.855298                -0.063793   \n",
            "109980                        -1.642610                -0.063793   \n",
            "74354                         -1.253953                 0.176056   \n",
            "80530                         -1.059625                -0.063793   \n",
            "\n",
            "        NumberRealEstateLoansOrLines  NumberOfTime60-89DaysPastDueNotWorse  \\\n",
            "57836                      -0.016145                             -0.057852   \n",
            "132895                     -0.016145                             -0.057852   \n",
            "27981                      -0.901283                             -0.057852   \n",
            "37852                      -0.901283                             -0.057852   \n",
            "103813                     -0.016145                             -0.057852   \n",
            "...                              ...                                   ...   \n",
            "18048                       0.868993                             -0.057852   \n",
            "3895                       -0.016145                             -0.057852   \n",
            "109980                     -0.901283                             -0.057852   \n",
            "74354                      -0.901283                             -0.057852   \n",
            "80530                      -0.901283                              0.182812   \n",
            "\n",
            "        NumberOfDependents  \n",
            "57836             1.140530  \n",
            "132895           -0.666126  \n",
            "27981             1.140530  \n",
            "37852            -0.666126  \n",
            "103813           -0.666126  \n",
            "...                    ...  \n",
            "18048            -0.666126  \n",
            "3895              0.237202  \n",
            "109980           -0.666126  \n",
            "74354            -0.666126  \n",
            "80530            -0.666126  \n",
            "\n",
            "[120000 rows x 10 columns]         RevolvingUtilizationOfUnsecuredLines       age  \\\n",
            "10682                              -0.024140  0.927766   \n",
            "40173                              -0.022399  1.740124   \n",
            "4719                               -0.023907  0.453891   \n",
            "81730                              -0.023786  0.453891   \n",
            "113639                             -0.023813  0.995463   \n",
            "...                                      ...       ...   \n",
            "64332                              -0.024172  1.537035   \n",
            "10478                              -0.023436 -1.712396   \n",
            "26358                              -0.024028 -1.441611   \n",
            "34188                              -0.024075  1.875517   \n",
            "12333                              -0.020308 -1.577004   \n",
            "\n",
            "        NumberOfTime30-59DaysPastDueNotWorse  DebtRatio  MonthlyIncome  \\\n",
            "10682                              -0.100419  -0.173015      -0.096464   \n",
            "40173                              -0.100419  -0.172799      -0.319499   \n",
            "4719                               -0.100419  -0.173143       0.342469   \n",
            "81730                              -0.100419  -0.173005       0.270089   \n",
            "113639                             -0.100419  -0.173027      -0.036342   \n",
            "...                                      ...        ...            ...   \n",
            "64332                              -0.100419  -0.164395      -0.497927   \n",
            "10478                               0.138087  -0.173184      -0.050383   \n",
            "26358                              -0.100419  -0.172792      -0.296226   \n",
            "34188                              -0.100419  -0.173155      -0.207012   \n",
            "12333                              -0.100419  -0.172994      -0.365270   \n",
            "\n",
            "        NumberOfOpenCreditLinesAndLoans  NumberOfTimes90DaysLate  \\\n",
            "10682                          0.883657                -0.063793   \n",
            "40173                         -0.282312                -0.063793   \n",
            "4719                          -0.670969                -0.063793   \n",
            "81730                          0.300672                -0.063793   \n",
            "113639                         1.077985                -0.063793   \n",
            "...                                 ...                      ...   \n",
            "64332                         -0.087984                -0.063793   \n",
            "10478                         -0.670969                -0.063793   \n",
            "26358                         -0.670969                -0.063793   \n",
            "34188                         -0.282312                -0.063793   \n",
            "12333                         -0.282312                -0.063793   \n",
            "\n",
            "        NumberRealEstateLoansOrLines  NumberOfTime60-89DaysPastDueNotWorse  \\\n",
            "10682                      -0.016145                             -0.057852   \n",
            "40173                      -0.016145                             -0.057852   \n",
            "4719                       -0.016145                             -0.057852   \n",
            "81730                       0.868993                             -0.057852   \n",
            "113639                      0.868993                             -0.057852   \n",
            "...                              ...                                   ...   \n",
            "64332                      -0.901283                             -0.057852   \n",
            "10478                      -0.901283                             -0.057852   \n",
            "26358                      -0.016145                             -0.057852   \n",
            "34188                      -0.016145                             -0.057852   \n",
            "12333                      -0.901283                             -0.057852   \n",
            "\n",
            "        NumberOfDependents  \n",
            "10682            -0.666126  \n",
            "40173             1.140530  \n",
            "4719             -0.666126  \n",
            "81730            -0.666126  \n",
            "113639           -0.666126  \n",
            "...                    ...  \n",
            "64332            -0.666126  \n",
            "10478            -0.666126  \n",
            "26358            -0.666126  \n",
            "34188             0.237202  \n",
            "12333             1.140530  \n",
            "\n",
            "[30000 rows x 10 columns]\n"
          ]
        }
      ]
    },
    {
      "cell_type": "code",
      "source": [
        "from sklearn.linear_model import LogisticRegression\n",
        "from sklearn.metrics import classification_report,confusion_matrix,roc_auc_score,RocCurveDisplay\n",
        "\n",
        "model=LogisticRegression(class_weight='balanced',max_iter=1000,random_state=42)\n",
        "model.fit(x_train,y_train)\n",
        "y_predict=model.predict(x_test)\n",
        "y_prob=model.predict_proba(x_test)[:,1]"
      ],
      "metadata": {
        "id": "7XRvGDan67lM"
      },
      "execution_count": 14,
      "outputs": []
    },
    {
      "cell_type": "code",
      "source": [
        "print(\"Confusion Matrix:\\n\", confusion_matrix(y_test,y_predict))\n",
        "print(\"\\nClassification Report:\\n\",classification_report(y_test,y_predict))\n",
        "print(\"ROC-AUC Score:\",roc_auc_score(y_test,y_prob))"
      ],
      "metadata": {
        "colab": {
          "base_uri": "https://localhost:8080/"
        },
        "id": "ulXuJcfE8LbC",
        "outputId": "d4e4f12f-b73f-42d2-d718-9d122eaa737a"
      },
      "execution_count": 15,
      "outputs": [
        {
          "output_type": "stream",
          "name": "stdout",
          "text": [
            "Confusion Matrix:\n",
            " [[21953  6042]\n",
            " [  663  1342]]\n",
            "\n",
            "Classification Report:\n",
            "               precision    recall  f1-score   support\n",
            "\n",
            "           0       0.97      0.78      0.87     27995\n",
            "           1       0.18      0.67      0.29      2005\n",
            "\n",
            "    accuracy                           0.78     30000\n",
            "   macro avg       0.58      0.73      0.58     30000\n",
            "weighted avg       0.92      0.78      0.83     30000\n",
            "\n",
            "ROC-AUC Score: 0.8022059158230518\n"
          ]
        }
      ]
    },
    {
      "cell_type": "markdown",
      "source": [
        "What does the confusion matrix tells:\n",
        "TN(Total Negative): 21953:mean correctly predicted no default\n",
        "FP(False Positive):6042 :Means mistakely flagged safe borrower\n",
        "FN(False Negative):663 Means Missed 663 defaulters\n",
        "TP:1342 means caught 1342 defaulters"
      ],
      "metadata": {
        "id": "f7z5B0Sc_gPr"
      }
    },
    {
      "cell_type": "code",
      "source": [
        "RocCurveDisplay.from_predictions(y_test,y_prob)"
      ],
      "metadata": {
        "colab": {
          "base_uri": "https://localhost:8080/",
          "height": 468
        },
        "id": "smYICTV7ABzw",
        "outputId": "718fc046-4b26-4c85-dd74-9039e596c99c"
      },
      "execution_count": 16,
      "outputs": [
        {
          "output_type": "execute_result",
          "data": {
            "text/plain": [
              "<sklearn.metrics._plot.roc_curve.RocCurveDisplay at 0x7e2ac81a4ad0>"
            ]
          },
          "metadata": {},
          "execution_count": 16
        },
        {
          "output_type": "display_data",
          "data": {
            "text/plain": [
              "<Figure size 640x480 with 1 Axes>"
            ],
            "image/png": "[encoded data removed]"
          },
          "metadata": {}
        }
      ]
    },
    {
      "cell_type": "code",
      "source": [
        "from sklearn.ensemble import RandomForestClassifier\n",
        "from sklearn.metrics import classification_report,confusion_matrix,roc_auc_score,RocCurveDisplay\n",
        "\n",
        "rf_model=RandomForestClassifier(n_estimators=100,class_weight='balanced',max_depth=None,random_state=42,n_jobs=-1)\n",
        "#Traing the model\n",
        "rf_model.fit(x_train,y_train)\n",
        "y_pred_rf=rf_model.predict(x_test)\n",
        "y_prob_rf=rf_model.predict_proba(x_test)[:,1]"
      ],
      "metadata": {
        "id": "WShnOWgNAUdM"
      },
      "execution_count": 17,
      "outputs": []
    },
    {
      "cell_type": "code",
      "source": [
        "print(\"Confusion Matrix:\\n\",confusion_matrix(y_test,y_pred_rf))\n",
        "print(\"\\nClassification Report:\\n\",classification_report(y_test,y_pred_rf))\n",
        "print(\"ROC_AUC Score:\",roc_auc_score(y_test,y_prob_rf))"
      ],
      "metadata": {
        "colab": {
          "base_uri": "https://localhost:8080/"
        },
        "id": "JE0LRXDECwNU",
        "outputId": "dec024c2-d4c3-4b99-b9ed-99c8091c9792"
      },
      "execution_count": 18,
      "outputs": [
        {
          "output_type": "stream",
          "name": "stdout",
          "text": [
            "Confusion Matrix:\n",
            " [[27757   238]\n",
            " [ 1700   305]]\n",
            "\n",
            "Classification Report:\n",
            "               precision    recall  f1-score   support\n",
            "\n",
            "           0       0.94      0.99      0.97     27995\n",
            "           1       0.56      0.15      0.24      2005\n",
            "\n",
            "    accuracy                           0.94     30000\n",
            "   macro avg       0.75      0.57      0.60     30000\n",
            "weighted avg       0.92      0.94      0.92     30000\n",
            "\n",
            "ROC_AUC Score: 0.8380290566671373\n"
          ]
        }
      ]
    },
    {
      "cell_type": "code",
      "source": [
        "RocCurveDisplay.from_predictions(y_test,y_prob_rf)"
      ],
      "metadata": {
        "colab": {
          "base_uri": "https://localhost:8080/",
          "height": 468
        },
        "id": "QzzVJECjEIfv",
        "outputId": "999a4811-f262-4deb-8da1-e4e5ac8ed7a2"
      },
      "execution_count": 19,
      "outputs": [
        {
          "output_type": "execute_result",
          "data": {
            "text/plain": [
              "<sklearn.metrics._plot.roc_curve.RocCurveDisplay at 0x7e2ac81c6e10>"
            ]
          },
          "metadata": {},
          "execution_count": 19
        },
        {
          "output_type": "display_data",
          "data": {
            "text/plain": [
              "<Figure size 640x480 with 1 Axes>"
            ],
            "image/png": "[encoded data removed]"
          },
          "metadata": {}
        }
      ]
    },
    {
      "cell_type": "code",
      "source": [
        "import xgboost as xgb\n",
        "from sklearn.metrics import classification_report, confusion_matrix,roc_auc_score,RocCurveDisplay\n",
        "\n",
        "xgb_model=xgb.XGBClassifier(\n",
        "    n_estimators=100,\n",
        "    max_depth=6,\n",
        "    learning_rate=0.1,\n",
        "    subsample=0.8,\n",
        "    colsample_bytree=0.8,\n",
        "    random_state=42,\n",
        "    use_label_encoder=False\n",
        ")"
      ],
      "metadata": {
        "id": "5qPP0x9dEQmA"
      },
      "execution_count": 20,
      "outputs": []
    },
    {
      "cell_type": "code",
      "source": [
        "xgb_model.fit(x_train,y_train)\n",
        "y_pred_xgb=xgb_model.predict(x_test)\n",
        "xgb_prob=xgb_model.predict_proba(x_test)[:,1]"
      ],
      "metadata": {
        "id": "aFLPctcSFNtN",
        "colab": {
          "base_uri": "https://localhost:8080/"
        },
        "outputId": "7e9e490c-2e9c-4103-9099-a9a0b14aab10"
      },
      "execution_count": 21,
      "outputs": [
        {
          "output_type": "stream",
          "name": "stderr",
          "text": [
            "/usr/local/lib/python3.11/dist-packages/xgboost/core.py:158: UserWarning: [18:04:18] WARNING: /workspace/src/learner.cc:740: \n",
            "Parameters: { \"use_label_encoder\" } are not used.\n",
            "\n",
            "  warnings.warn(smsg, UserWarning)\n"
          ]
        }
      ]
    },
    {
      "cell_type": "code",
      "source": [
        "print(\"Confusion Matrix\\n\",confusion_matrix(y_test,y_pred_xgb))\n",
        "print(\"\\nClassification Report\\n\",classification_report(y_test,y_pred_xgb))\n",
        "print(\"ROC-AUC Score:\",roc_auc_score(y_test,xgb_prob))"
      ],
      "metadata": {
        "colab": {
          "base_uri": "https://localhost:8080/"
        },
        "id": "SLIJ3I7_GD9t",
        "outputId": "667b7e77-1333-4f8a-816f-e9db936132a1"
      },
      "execution_count": 22,
      "outputs": [
        {
          "output_type": "stream",
          "name": "stdout",
          "text": [
            "Confusion Matrix\n",
            " [[27719   276]\n",
            " [ 1599   406]]\n",
            "\n",
            "Classification Report\n",
            "               precision    recall  f1-score   support\n",
            "\n",
            "           0       0.95      0.99      0.97     27995\n",
            "           1       0.60      0.20      0.30      2005\n",
            "\n",
            "    accuracy                           0.94     30000\n",
            "   macro avg       0.77      0.60      0.63     30000\n",
            "weighted avg       0.92      0.94      0.92     30000\n",
            "\n",
            "ROC-AUC Score: 0.8682061590086224\n"
          ]
        }
      ]
    },
    {
      "cell_type": "code",
      "source": [
        "new_customer = pd.DataFrame([{\n",
        "    'RevolvingUtilizationOfUnsecuredLines': 0.3,\n",
        "    'age': 35,\n",
        "    'NumberOfTime30-59DaysPastDueNotWorse': 1,\n",
        "    'DebtRatio': 0.6,\n",
        "    'MonthlyIncome': 4000,\n",
        "    'NumberOfOpenCreditLinesAndLoans': 5,\n",
        "    'NumberOfTimes90DaysLate': 0,\n",
        "    'NumberRealEstateLoansOrLines': 0,\n",
        "    'NumberOfTime60-89DaysPastDueNotWorse': 1,\n",
        "    'NumberOfDependents': 1\n",
        "}])"
      ],
      "metadata": {
        "id": "GBksbhYdGeWO"
      },
      "execution_count": 23,
      "outputs": []
    },
    {
      "cell_type": "code",
      "source": [
        "prob=float(xgb_model.predict_proba(new_customer)[:,1])\n",
        "pred_class=xgb_model.predict(new_customer)[0]"
      ],
      "metadata": {
        "colab": {
          "base_uri": "https://localhost:8080/"
        },
        "id": "eUf7Gv1enLr8",
        "outputId": "abe6e695-33cb-4ce0-c8ed-f7e6e3f4b700"
      },
      "execution_count": 28,
      "outputs": [
        {
          "output_type": "stream",
          "name": "stderr",
          "text": [
            "/tmp/ipython-input-28-536769806.py:1: DeprecationWarning: Conversion of an array with ndim > 0 to a scalar is deprecated, and will error in future. Ensure you extract a single element from your array before performing this operation. (Deprecated NumPy 1.25.)\n",
            "  prob=float(xgb_model.predict_proba(new_customer)[:,1])\n"
          ]
        }
      ]
    },
    {
      "cell_type": "code",
      "source": [
        "score = int(850 - prob * 550)\n",
        "\n",
        "print(f\"Predicted Default Probability: {prob:.4f}\")\n",
        "print(f\"Credit Risk: {'Default' if pred_class == 1 else 'Safe'}\")\n",
        "print(f\"Estimated Credit Score: {score}\")\n"
      ],
      "metadata": {
        "colab": {
          "base_uri": "https://localhost:8080/"
        },
        "id": "-iko-vXonSXR",
        "outputId": "35d248b2-f55d-4ba0-ede7-92d3291fd6bb"
      },
      "execution_count": 29,
      "outputs": [
        {
          "output_type": "stream",
          "name": "stdout",
          "text": [
            "Predicted Default Probability: 0.7078\n",
            "Credit Risk: Default\n",
            "Estimated Credit Score: 460\n"
          ]
        }
      ]
    },
    {
      "cell_type": "code",
      "source": [
        "#Creating the final function to analyze score\n",
        "def predict_credit_score(customer_input,model,scaler,reference_df):\n",
        "  customer_input=customer_input.copy()\n",
        "  customer_input['MonthlyIncome']=customer_input['MonthlyIncome'].fillna(reference_df['MonthlyIncome'].median())\n",
        "  customer_input['NumberOfDependents']=customer_input['NumberOfDependents'].fillna(0)\n",
        "  customer_input_scaled=scaler.transform(customer_input)\n",
        "  customer_input=customer_input[reference_df.columns]\n",
        "  prob=float(model.predict_proba(customer_input_scaled)[:,1])\n",
        "  pred_class=model.predict(customer_input_scaled)[0]\n",
        "  score = int(850 - prob * 550)\n",
        "  print(f\"Predicted Default Probability: {prob:.4f}\")\n",
        "  print(f\"Credit Risk: {'Default' if pred_class == 1 else 'Safe'}\")\n",
        "  print(f\"Estimated Credit Score: {score}\")"
      ],
      "metadata": {
        "id": "suS-eedEoYro"
      },
      "execution_count": 31,
      "outputs": []
    },
    {
      "cell_type": "code",
      "source": [
        "new_customer = pd.DataFrame([{\n",
        "    'RevolvingUtilizationOfUnsecuredLines': 0.3,\n",
        "    'age': 35,\n",
        "    'NumberOfTime30-59DaysPastDueNotWorse': 1,\n",
        "    'DebtRatio': 0.6,\n",
        "    'MonthlyIncome': 4000,\n",
        "    'NumberOfOpenCreditLinesAndLoans': 5,\n",
        "    'NumberOfTimes90DaysLate': 0,\n",
        "    'NumberRealEstateLoansOrLines': 0,\n",
        "    'NumberOfTime60-89DaysPastDueNotWorse': 1,\n",
        "    'NumberOfDependents': 1\n",
        "}])\n",
        "predict_credit_score(new_customer,model=xgb_model,scaler=scaler,reference_df=x_train)"
      ],
      "metadata": {
        "colab": {
          "base_uri": "https://localhost:8080/"
        },
        "id": "S7GGTlFkpdV9",
        "outputId": "03697365-ef90-4934-9d69-21bc0ce4e6fc"
      },
      "execution_count": 32,
      "outputs": [
        {
          "output_type": "stream",
          "name": "stdout",
          "text": [
            "Predicted Default Probability: 0.2534\n",
            "Credit Risk: Safe\n",
            "Estimated Credit Score: 710\n"
          ]
        },
        {
          "output_type": "stream",
          "name": "stderr",
          "text": [
            "/tmp/ipython-input-31-2662882029.py:8: DeprecationWarning: Conversion of an array with ndim > 0 to a scalar is deprecated, and will error in future. Ensure you extract a single element from your array before performing this operation. (Deprecated NumPy 1.25.)\n",
            "  prob=float(model.predict_proba(customer_input_scaled)[:,1])\n"
          ]
        }
      ]
    },
    {
      "cell_type": "code",
      "source": [],
      "metadata": {
        "id": "er5cnLXep1Yo"
      },
      "execution_count": null,
      "outputs": []
    }
  ]
}